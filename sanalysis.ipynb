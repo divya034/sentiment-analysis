{
  "nbformat": 4,
  "nbformat_minor": 0,
  "metadata": {
    "colab": {
      "name": "sanalysis.ipynb",
      "provenance": [],
      "collapsed_sections": [],
      "include_colab_link": true
    },
    "kernelspec": {
      "name": "python3",
      "display_name": "Python 3"
    }
  },
  "cells": [
    {
      "cell_type": "markdown",
      "metadata": {
        "id": "view-in-github",
        "colab_type": "text"
      },
      "source": [
        "<a href=\"https://colab.research.google.com/github/divya034/sentiment-analysis/blob/master/sanalysis.ipynb\" target=\"_parent\"><img src=\"https://colab.research.google.com/assets/colab-badge.svg\" alt=\"Open In Colab\"/></a>"
      ]
    },
    {
      "cell_type": "markdown",
      "metadata": {
        "id": "-XlCNwazuIFo",
        "colab_type": "text"
      },
      "source": [
        "# **Sentiment Analysis with an RNN**\n",
        "\n",
        "In this notebook, you'll implement a recurrent neural network that performs sentiment analysis. Using an RNN rather than a feedfoward network is more accurate since we can include information about the sequence of words. Here we'll use a dataset of movie reviews, accompanied by labels."
      ]
    },
    {
      "cell_type": "markdown",
      "metadata": {
        "id": "5hVf1KI7uxLj",
        "colab_type": "text"
      },
      "source": [
        "# **Getting data**\n",
        " Keras has a built-in IMDb movie reviews data set that we can use.\n",
        " Alternatively, data sets on amazon product review or twitter API can also be used.\n",
        "\n",
        " link to downlodable amazon product review:  http://www.cs.jhu.edu/~mdredze/datasets/sentiment/unprocessed.tar.gz "
      ]
    },
    {
      "cell_type": "code",
      "metadata": {
        "id": "emirSBXk6U10",
        "colab_type": "code",
        "colab": {}
      },
      "source": [
        "import numpy as np\n",
        "import keras as K\n",
        "import tensorflow as tf\n",
        "import os\n",
        "os.environ['TF_CPP_MIN_LOG_LEVEL']='2'\n",
        "def main():\n",
        "  # 0. get started\n",
        "  print(\"IMDB sentiment analysis using Keras/TensorFlow\")\n",
        "  np.random.seed(1)\n",
        "  tf.set_random_seed(1)\n",
        "from matplotlib import pyplot as plt\n"
      ],
      "execution_count": 0,
      "outputs": []
    },
    {
      "cell_type": "markdown",
      "metadata": {
        "id": "15AEuHRewgEO",
        "colab_type": "text"
      },
      "source": [
        "# **Set the vocabulary size and load in training and test data.**\n"
      ]
    },
    {
      "cell_type": "code",
      "metadata": {
        "id": "ZjzSSrNP6ayo",
        "colab_type": "code",
        "outputId": "2ef7e8bd-a988-4b9d-a44d-0c3ef5fb275c",
        "colab": {
          "base_uri": "https://localhost:8080/",
          "height": 86
        }
      },
      "source": [
        "max_words = 20000\n",
        "print(\"Loading data, max unique words = %d words\\n\" % max_words)\n",
        "(train_x, train_y), (test_x, test_y) = \\\n",
        "  K.datasets.imdb.load_data(seed=1, num_words=max_words)"
      ],
      "execution_count": 55,
      "outputs": [
        {
          "output_type": "stream",
          "text": [
            "Loading data, max unique words = 20000 words\n",
            "\n",
            "Downloading data from https://s3.amazonaws.com/text-datasets/imdb.npz\n",
            "17465344/17464789 [==============================] - 2s 0us/step\n"
          ],
          "name": "stdout"
        }
      ]
    },
    {
      "cell_type": "markdown",
      "metadata": {
        "id": "73mwzhz3xCuI",
        "colab_type": "text"
      },
      "source": [
        "Review is stored as a sequence of integers. \n",
        "\n",
        "These are word IDs that have been pre-assigned to individual words, and the label is an integer (0 for negative, 1 for positive)."
      ]
    },
    {
      "cell_type": "markdown",
      "metadata": {
        "id": "ZYWFD4AsyI1e",
        "colab_type": "text"
      },
      "source": [
        "**Maximum review length**\n"
      ]
    },
    {
      "cell_type": "code",
      "metadata": {
        "id": "tz9FZQ-h6l0Q",
        "colab_type": "code",
        "colab": {}
      },
      "source": [
        "max_review_len = 80\n",
        "train_x = K.preprocessing.sequence.pad_sequences(train_x,\n",
        "  truncating='pre', padding='pre', maxlen=max_review_len)\n",
        "test_x = K.preprocessing.sequence.pad_sequences(test_x,\n",
        "  truncating='pre', padding='pre', maxlen=max_review_len)"
      ],
      "execution_count": 0,
      "outputs": []
    },
    {
      "cell_type": "markdown",
      "metadata": {
        "id": "ut9PoBR00yYQ",
        "colab_type": "text"
      },
      "source": [
        "### **Defining the LSTM Model**"
      ]
    },
    {
      "cell_type": "code",
      "metadata": {
        "id": "KW6LxQYi6sDV",
        "colab_type": "code",
        "colab": {
          "base_uri": "https://localhost:8080/",
          "height": 34
        },
        "outputId": "0e75cdcf-206c-4322-f05d-c0a6076e8dcc"
      },
      "source": [
        "\n",
        "print(\"Creating LSTM model\")\n",
        "e_init = K.initializers.RandomUniform(-0.01, 0.01, seed=1)\n",
        "init = K.initializers.glorot_uniform(seed=1)\n",
        "simple_adam = K.optimizers.Adam()\n",
        "embed_vec_len = 32  # values per word"
      ],
      "execution_count": 57,
      "outputs": [
        {
          "output_type": "stream",
          "text": [
            "Creating LSTM model\n"
          ],
          "name": "stdout"
        }
      ]
    },
    {
      "cell_type": "markdown",
      "metadata": {
        "id": "2H15EcMz1MUf",
        "colab_type": "text"
      },
      "source": [
        "# **LSTM network**"
      ]
    },
    {
      "cell_type": "code",
      "metadata": {
        "id": "EAJsuSKZlcwj",
        "colab_type": "code",
        "colab": {}
      },
      "source": [
        "model = K.models.Sequential()\n",
        "model.add(K.layers.embeddings.Embedding(input_dim=max_words,\n",
        "  output_dim=embed_vec_len, embeddings_initializer=e_init,\n",
        "  mask_zero=True))\n",
        "model.add(K.layers.LSTM(units=100, kernel_initializer=init,\n",
        "  dropout=0.2, recurrent_dropout=0.2))  # 100 memory\n",
        "model.add(K.layers.Dense(units=1, kernel_initializer=init,\n",
        "  activation='sigmoid'))"
      ],
      "execution_count": 0,
      "outputs": []
    },
    {
      "cell_type": "code",
      "metadata": {
        "id": "KaR-2WvLliz2",
        "colab_type": "code",
        "colab": {
          "base_uri": "https://localhost:8080/",
          "height": 277
        },
        "outputId": "809516db-6943-4719-9eff-3645a638b164"
      },
      "source": [
        "model.compile(loss='binary_crossentropy', optimizer=simple_adam,\n",
        "  metrics=['acc'])\n",
        "print(model.summary())"
      ],
      "execution_count": 59,
      "outputs": [
        {
          "output_type": "stream",
          "text": [
            "Model: \"sequential_1\"\n",
            "_________________________________________________________________\n",
            "Layer (type)                 Output Shape              Param #   \n",
            "=================================================================\n",
            "embedding_1 (Embedding)      (None, None, 32)          640000    \n",
            "_________________________________________________________________\n",
            "lstm_1 (LSTM)                (None, 100)               53200     \n",
            "_________________________________________________________________\n",
            "dense_1 (Dense)              (None, 1)                 101       \n",
            "=================================================================\n",
            "Total params: 693,301\n",
            "Trainable params: 693,301\n",
            "Non-trainable params: 0\n",
            "_________________________________________________________________\n",
            "None\n"
          ],
          "name": "stdout"
        }
      ]
    },
    {
      "cell_type": "markdown",
      "metadata": {
        "id": "iXvHFbkP1fn6",
        "colab_type": "text"
      },
      "source": [
        "# **Training and Evaluating the LSTM Model**"
      ]
    },
    {
      "cell_type": "code",
      "metadata": {
        "id": "Al-OvXlh6xqC",
        "colab_type": "code",
        "outputId": "623dccd5-d169-4018-f37f-abbf34a0b999",
        "colab": {
          "base_uri": "https://localhost:8080/",
          "height": 208
        }
      },
      "source": [
        "bat_size = 32\n",
        "max_epochs = 3\n",
        "print(\"\\nStarting training \")\n",
        "\n",
        "\n",
        "X_valid, y_valid = train_x[:bat_size], train_y[:bat_size]\n",
        "X_train2, y_train2 = train_x[bat_size:], train_y[bat_size:]\n",
        "history= model.fit(X_train2, y_train2, validation_data=(X_valid, y_valid), batch_size= bat_size, epochs=max_epochs)\n",
        "print(\"Training complete \\n\")\n"
      ],
      "execution_count": 70,
      "outputs": [
        {
          "output_type": "stream",
          "text": [
            "\n",
            "Starting training \n",
            "Train on 24968 samples, validate on 32 samples\n",
            "Epoch 1/3\n",
            "24968/24968 [==============================] - 78s 3ms/step - loss: 0.1285 - acc: 0.9541 - val_loss: 0.3014 - val_acc: 0.9062\n",
            "Epoch 2/3\n",
            "24968/24968 [==============================] - 78s 3ms/step - loss: 0.1166 - acc: 0.9591 - val_loss: 0.2916 - val_acc: 0.9375\n",
            "Epoch 3/3\n",
            "24968/24968 [==============================] - 78s 3ms/step - loss: 0.1000 - acc: 0.9656 - val_loss: 0.4076 - val_acc: 0.8438\n",
            "Training complete \n",
            "\n"
          ],
          "name": "stdout"
        }
      ]
    },
    {
      "cell_type": "code",
      "metadata": {
        "id": "6YDWyB9M62HB",
        "colab_type": "code",
        "outputId": "d1605469-caf4-42ce-8b4a-24205afbc5d7",
        "colab": {
          "base_uri": "https://localhost:8080/",
          "height": 34
        }
      },
      "source": [
        "loss_acc = model.evaluate(test_x, test_y, verbose=0)\n",
        "print(\"Test data: loss = %0.6f  accuracy = %0.2f%% \" % \\\n",
        "  (loss_acc[0], loss_acc[1]*100))"
      ],
      "execution_count": 71,
      "outputs": [
        {
          "output_type": "stream",
          "text": [
            "Test data: loss = 0.638280  accuracy = 80.59% \n"
          ],
          "name": "stdout"
        }
      ]
    },
    {
      "cell_type": "markdown",
      "metadata": {
        "id": "zDY8JTAI2alU",
        "colab_type": "text"
      },
      "source": [
        "# **now we plot accuracy and loss of training and validation:**\n",
        "\n",
        "for this we can import pyplot from matplotlib"
      ]
    },
    {
      "cell_type": "code",
      "metadata": {
        "id": "2fI0xvueZMFE",
        "colab_type": "code",
        "outputId": "c81851fc-64d9-4b21-a89f-283a58fc8890",
        "colab": {
          "base_uri": "https://localhost:8080/",
          "height": 590
        }
      },
      "source": [
        "print(history.history.keys())\n",
        "#  \"Accuracy\"\n",
        "plt.plot(history.history['acc'])\n",
        "plt.plot(history.history['val_acc'])\n",
        "plt.title('model accuracy')\n",
        "plt.ylabel('acc')\n",
        "plt.xlabel('epoch')\n",
        "plt.legend(['train', 'validation'], loc='upper left')\n",
        "plt.show()\n",
        "# \"Loss\"\n",
        "plt.plot(history.history['loss'])\n",
        "plt.plot(history.history['val_loss'])\n",
        "plt.title('model loss')\n",
        "plt.ylabel('loss')\n",
        "plt.xlabel('epoch')\n",
        "plt.legend(['train', 'validation'], loc='upper left')\n",
        "plt.show()"
      ],
      "execution_count": 73,
      "outputs": [
        {
          "output_type": "stream",
          "text": [
            "dict_keys(['val_loss', 'val_acc', 'loss', 'acc'])\n"
          ],
          "name": "stdout"
        },
        {
          "output_type": "display_data",
          "data": {
            "image/png": "[encoded data removed]",
            "text/plain": [
              "<Figure size 432x288 with 1 Axes>"
            ]
          },
          "metadata": {
            "tags": [],
            "needs_background": "light"
          }
        },
        {
          "output_type": "display_data",
          "data": {
            "image/png": "[encoded data removed]",
            "text/plain": [
              "<Figure size 432x288 with 1 Axes>"
            ]
          },
          "metadata": {
            "tags": [],
            "needs_background": "light"
          }
        }
      ]
    },
    {
      "cell_type": "markdown",
      "metadata": {
        "id": "Kiwf5Nrd2ICD",
        "colab_type": "text"
      },
      "source": [
        "# **New review**"
      ]
    },
    {
      "cell_type": "code",
      "metadata": {
        "id": "aj2bHvf_xs2o",
        "colab_type": "code",
        "colab": {
          "base_uri": "https://localhost:8080/",
          "height": 34
        },
        "outputId": "ee33d6b5-6117-4227-e7d4-19b23c106bb6"
      },
      "source": [
        "print(\"New review: \\'the movie was a great \\'\")\n",
        "d = K.datasets.imdb.get_word_index()\n",
        "review = \"this movie was great\""
      ],
      "execution_count": 86,
      "outputs": [
        {
          "output_type": "stream",
          "text": [
            "New review: 'the movie was a great '\n"
          ],
          "name": "stdout"
        }
      ]
    },
    {
      "cell_type": "code",
      "metadata": {
        "id": "Bw3yJlChx4B5",
        "colab_type": "code",
        "colab": {}
      },
      "source": [
        "words = review.split()\n",
        "review = []\n",
        "for word in words:\n",
        "  if word not in d: \n",
        "    review.append(2)\n",
        "  else:\n",
        "    review.append(d[word]+3)"
      ],
      "execution_count": 0,
      "outputs": []
    },
    {
      "cell_type": "code",
      "metadata": {
        "id": "NjbEGq_ix_JD",
        "colab_type": "code",
        "colab": {
          "base_uri": "https://localhost:8080/",
          "height": 34
        },
        "outputId": "1fd9a4fa-8aed-443b-dbe2-fe7c439d429d"
      },
      "source": [
        "review = K.preprocessing.sequence.pad_sequences([review],\n",
        "  truncating='pre', padding='pre', maxlen=max_review_len)\n",
        "prediction = model.predict(review)\n",
        "print(\"Prediction (0 = negative, 1 = positive) = \", end=\"\")\n",
        "print(\"%0.4f\" % prediction[0][0])"
      ],
      "execution_count": 88,
      "outputs": [
        {
          "output_type": "stream",
          "text": [
            "Prediction (0 = negative, 1 = positive) = 0.8019\n"
          ],
          "name": "stdout"
        }
      ]
    }
  ]
}